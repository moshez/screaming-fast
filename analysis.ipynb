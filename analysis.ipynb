{
 "cells": [
  {
   "cell_type": "code",
   "execution_count": 4,
   "metadata": {},
   "outputs": [],
   "source": [
    "from scipy.stats import lognorm, describe"
   ]
  },
  {
   "cell_type": "code",
   "execution_count": 46,
   "metadata": {},
   "outputs": [
    {
     "name": "stdout",
     "output_type": "stream",
     "text": [
      "Mean: 0.1 Stddev: 0.25 P90:0.23305090270361384 P99:1.1186567535592287\n",
      "Sigmas over mean: 4.06\n"
     ]
    }
   ],
   "source": [
    "mean = 0.1\n",
    "sigma = 1.41\n",
    "m, v  = lognorm.stats(sigma, moments=\"mv\")\n",
    "ratio = mean/m\n",
    "stddev = v**0.5 * ratio\n",
    "results = ratio*lognorm.rvs(sigma, size=10000)\n",
    "description = describe(results)\n",
    "if abs(mean - description.mean)/mean > 0.1:\n",
    "    raise ValueError(\"sampled distribution not as expected\", mean, description.mean)\n",
    "if abs(stddev - description.variance**0.5)/stddev > 0.1:\n",
    "    raise ValueError(\"sampled distribution not as expected\", stddev, description.variance**0.5)\n",
    "results.sort()\n",
    "p90_idx = int(len(results) * 0.9)\n",
    "p99_idx = int(len(results) * 0.99)\n",
    "print(f\"Mean: {mean} Stddev: {round(stddev, 2)} P90:{results[p90_idx]} P99:{results[p99_idx]}\")\n",
    "print(f\"Sigmas over mean: {round((results[p99_idx]-mean)/stddev, 2)}\")"
   ]
  },
  {
   "cell_type": "markdown",
   "metadata": {},
   "source": [
    "This like going to a party with 100 people randomly selected from US population, and meeting someone who's 6'9\"!\n",
    "\n",
    "The lognormal distribution has a fat tail that can cause you a lot of pain!"
   ]
  },
  {
   "cell_type": "code",
   "execution_count": 47,
   "metadata": {},
   "outputs": [],
   "source": [
    "import httpx"
   ]
  },
  {
   "cell_type": "code",
   "execution_count": 48,
   "metadata": {},
   "outputs": [],
   "source": [
    "client = httpx.Client(timeout=None)"
   ]
  },
  {
   "cell_type": "markdown",
   "metadata": {},
   "source": [
    "Our **backend** is lognormal. What about our middle service?"
   ]
  },
  {
   "cell_type": "code",
   "execution_count": null,
   "metadata": {},
   "outputs": [],
   "source": [
    "values = []\n",
    "for i in range(100):\n",
    "    value = client.get(\"http://localhost:5000\").json()\n",
    "    values.append(value)"
   ]
  },
  {
   "cell_type": "code",
   "execution_count": 77,
   "metadata": {},
   "outputs": [
    {
     "name": "stdout",
     "output_type": "stream",
     "text": [
      "If we look at mean, variance and p90, we look good:  0.30021350682914516 0.21811535000528137 0.537709824510733\n",
      "If we look at P95 and P99... 0.8219867784591958 1.266870092270889\n"
     ]
    }
   ],
   "source": [
    "totals = [x['total'] for x in values]\n",
    "totals.sort()\n",
    "description = describe(totals)\n",
    "print(\"If we look at mean, variance and p90, we look good: \", description.mean, description.variance**0.5, totals[90])\n",
    "print(\"If we look at P95 and P99...\", totals[95], totals[99])"
   ]
  },
  {
   "cell_type": "code",
   "execution_count": null,
   "metadata": {},
   "outputs": [],
   "source": []
  }
 ],
 "metadata": {
  "kernelspec": {
   "display_name": "screaming-fast-clients",
   "language": "python",
   "name": "screaming-fast-clients-venv"
  },
  "language_info": {
   "codemirror_mode": {
    "name": "ipython",
    "version": 3
   },
   "file_extension": ".py",
   "mimetype": "text/x-python",
   "name": "python",
   "nbconvert_exporter": "python",
   "pygments_lexer": "ipython3",
   "version": "3.8.3"
  }
 },
 "nbformat": 4,
 "nbformat_minor": 4
}
